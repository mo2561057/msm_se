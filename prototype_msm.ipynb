{
 "cells": [
  {
   "cell_type": "code",
   "execution_count": 75,
   "metadata": {},
   "outputs": [],
   "source": [
    "import os\n",
    "import functools\n",
    "import itertools\n",
    "\n",
    "import pandas as pd\n",
    "import numpy as np\n",
    "from patsy import dmatrices\n",
    "from scipy import stats\n",
    "from estimagic import maximize\n",
    "from estimagic.differentiation.derivatives import first_derivative\n",
    "from respy.method_of_simulated_moments import _harmonize_input, get_flat_moments\n"
   ]
  },
  {
   "cell_type": "markdown",
   "metadata": {},
   "source": [
    "# Ordered Logit Example\n"
   ]
  },
  {
   "cell_type": "markdown",
   "metadata": {},
   "source": [
    "## Functions"
   ]
  },
  {
   "cell_type": "code",
   "execution_count": 40,
   "metadata": {},
   "outputs": [],
   "source": [
    "def _build_data_df(x,y):\n",
    "    # Basic utility\n",
    "    data = np.concatenate([x,y.reshape(len(y),1)],axis=1)\n",
    "    return pd.DataFrame(data=data.copy(),columns=[\"pared\",\"public\",\"gpa\",\"apply\"])"
   ]
  },
  {
   "cell_type": "code",
   "execution_count": 41,
   "metadata": {},
   "outputs": [],
   "source": [
    "def ordered_logit_processing(formula, data):\n",
    "    \"\"\"Process user input for an ordered logit model.\"\"\"\n",
    "    # extract data arrays\n",
    "    y, x = dmatrices(formula + \" - 1\", data, return_type=\"dataframe\")\n",
    "    y = y[y.columns[0]]\n",
    "\n",
    "    # extract dimensions\n",
    "    num_choices = len(y.unique())\n",
    "    beta_names = list(x.columns)\n",
    "    num_betas = len(beta_names)\n",
    "    num_cutoffs = num_choices - 1\n",
    "\n",
    "    # set-up index for params_df\n",
    "    names = beta_names + list(range(num_cutoffs))\n",
    "    categories = [\"beta\"] * num_betas + [\"cutoff\"] * num_cutoffs\n",
    "    index = pd.MultiIndex.from_tuples(zip(categories, names), names=[\"type\", \"name\"])\n",
    "\n",
    "    # make params_df\n",
    "    np.random.seed(5471)\n",
    "    start_params = pd.DataFrame(index=index)\n",
    "    start_params[\"value\"] = np.hstack(\n",
    "        [\n",
    "            np.random.uniform(low=-0.5, high=0.5, size=len(x.columns)),\n",
    "            np.arange(num_cutoffs) * 2,\n",
    "        ]\n",
    "    )\n",
    "    start_params[\"group\"] = start_params.index.get_level_values(\"type\")\n",
    "\n",
    "    # make constraints\n",
    "    constr = [{\"loc\": \"cutoff\", \"type\": \"increasing\"}]\n",
    "\n",
    "    # turn pandas objects into numpy arrays\n",
    "    y_arr = y.to_numpy().astype(int)\n",
    "    x_arr = x.to_numpy()\n",
    "    \n",
    "    return start_params, y_arr, x_arr, constr"
   ]
  },
  {
   "cell_type": "code",
   "execution_count": 42,
   "metadata": {},
   "outputs": [],
   "source": [
    "def _build_moments(data):\n",
    "    im = data.copy()\n",
    "    im[\"gpa\"] = pd.cut(im.gpa,bins=5,labels=False)\n",
    "    ix = pd.MultiIndex.from_tuples(itertools.product(range(2),range(2),range(5),range(3)))\n",
    "    ix.names = [\"pared\", \"public\",\"gpa\", \"apply\"]\n",
    "    out = pd.Series(index=ix,data=0)\n",
    "    rslt =  im.groupby([\"pared\",\"public\",\"gpa\"])[\"apply\"].value_counts(normalize=True)\n",
    "    out[rslt.index] = rslt.values\n",
    "    return out\n",
    "    "
   ]
  },
  {
   "cell_type": "code",
   "execution_count": null,
   "metadata": {},
   "outputs": [],
   "source": [
    "def get_weighting_matrix(\n",
    "    data,\n",
    "    empirical_moments,\n",
    "    calc_moments,\n",
    "    n_bootstrap_samples,\n",
    "    n_draws_individuals,\n",
    "    replace_missing_weights=None,\n",
    "    return_covariance_matrix=False,\n",
    "):\n",
    "    \"\"\"Compute a diagonal weighting matrix for estimation with MSM.\n",
    "    Weights are the inverse bootstrap variances of the observed sample moments.\n",
    "    Args:\n",
    "    ------\n",
    "    data (pandas.DataFrame)\n",
    "        Dataframe containing individual observations. Must contain index named\n",
    "        \"Identifier\" by which observations are sampled.\n",
    "    empirical_moments (dict)\n",
    "        Dictionary containing empirical moments in the form of pandas.DataFrame\n",
    "        or pandas.Series.\n",
    "    calc_moments (dict)\n",
    "        Dictionary containing moment functions.\n",
    "    n_bootstrap_samples (int)\n",
    "        Number of samples that should be boostrapped.\n",
    "    n_draws_individuals (int)\n",
    "        Observations per bootstrap sample (individual ids).\n",
    "    replace_missing_weights (None or float)\n",
    "        Can be used to replace missing weights with a float value. If none, in\n",
    "        cases where where weights are computed to be missing/infinite (i.e. if\n",
    "        variances are 0), weights are set to zero.\n",
    "    return_covariance_matrix : bool, default False\n",
    "        Return full covariance matrix of bootstrapped moments.\n",
    "    Returns:\n",
    "    --------\n",
    "    weighting_matrix (numpy.array)\n",
    "        Diagonal weighting matrix with dimensions RxR where R denotes the\n",
    "        number of moments.\n",
    "    covariance_matrix (numpy.array)\n",
    "        Covariance matrix of moments.\n",
    "    \"\"\"\n",
    "    data = data.copy()\n",
    "    np.random.seed(123)\n",
    "    flat_empirical_moments = get_flat_moments(empirical_moments)\n",
    "    index_base = data.index.get_level_values(0).unique()\n",
    "    calc_moments = _harmonize_input(calc_moments)\n",
    "    # Create bootstrapped moments.\n",
    "    moments_sample = []\n",
    "    for _ in range(n_bootstrap_samples):\n",
    "        ids_boot = np.random.choice(index_base, n_draws_individuals, replace=False)\n",
    "        moments_boot = {k: func(data.loc[ids_boot]) for k, func in calc_moments.items()}\n",
    "        flat_moments_boot = get_flat_moments(moments_boot)\n",
    "        flat_moments_boot = flat_moments_boot.reindex_like(flat_empirical_moments)\n",
    "        # flat_moments_boot = flat_moments_boot.fillna(0)\n",
    "        moments_sample.append(flat_moments_boot)\n",
    "\n",
    "    # Compute variance for each moment and construct diagonal weighting matrix.\n",
    "    moments_var = np.array(moments_sample).var(axis=0)\n",
    "\n",
    "    # The variance of missing moments is nan. Unless a replacement variance is\n",
    "    # specified, their inverse variance will be set to 0.\n",
    "    diagonal = moments_var ** (-1)\n",
    "    if replace_missing_weights is None:\n",
    "        diagonal = np.nan_to_num(diagonal, nan=0, posinf=0, neginf=0)\n",
    "    else:\n",
    "        diagonal = np.nan_to_num(\n",
    "            moments_var,\n",
    "            nan=replace_missing_weights,\n",
    "            posinf=replace_missing_weights,\n",
    "            neginf=replace_missing_weights,\n",
    "        )\n",
    "\n",
    "    weighting_matrix = np.diag(diagonal)\n",
    "\n",
    "    # Checks weighting matrix.\n",
    "    if np.isnan(weighting_matrix).any() or np.isinf(weighting_matrix).any():\n",
    "        raise ValueError(\"Weighting matrix contains NaNs or infinite values.\")\n",
    "\n",
    "    if return_covariance_matrix:\n",
    "        covariance_matrix = np.cov(np.array(moments_sample).T, ddof=0)\n",
    "        out = weighting_matrix, covariance_matrix\n",
    "        assert np.allclose(\n",
    "            moments_var, np.diag(covariance_matrix)\n",
    "        ), \"Variances in two outputs are not equal.\"\n",
    "    else:\n",
    "        out = weighting_matrix\n",
    "    return out"
   ]
  },
  {
   "cell_type": "code",
   "execution_count": 101,
   "metadata": {},
   "outputs": [],
   "source": [
    "def ordered_logit_msm(\n",
    "    params,\n",
    "    x,\n",
    "    moment_func,\n",
    "    moments_obs,\n",
    "    weighting=[],\n",
    "    return_scalar=True\n",
    "    \n",
    "):\n",
    "    \"\"\"MSM criterion for ordered logit\"\"\"\n",
    "    # parse the parameter vector into its quantities\n",
    "    beta = params.loc[\"beta\", \"value\"].to_numpy()\n",
    "    cutoffs = params.loc[\"cutoff\", \"value\"].to_numpy()\n",
    "\n",
    "    # calculate deterministic part of utilities\n",
    "    xb = x.dot(beta).reshape(len(x),1)\n",
    "\n",
    "    # Simulate Result:\n",
    "    upper_cutoffs = np.hstack([cutoffs, np.inf])\n",
    "    lower_cutoffs = np.hstack([-np.inf, cutoffs])\n",
    "    upper_cdf = stats.logistic.cdf(upper_cutoffs - xb)\n",
    "    lower_cdf = stats.logistic.cdf(lower_cutoffs - xb)\n",
    "\n",
    "    prob_cumulative = (upper_cdf - lower_cdf).cumsum(axis=1)\n",
    "    draws = np.random.rand(len(xb), 1)\n",
    "    labels = (draws < prob_cumulative).argmax(axis=1)\n",
    "    \n",
    "    moments_sim = moment_func(_build_data_df(x,labels))\n",
    "    \n",
    "    dev = (moments_sim - moments_obs).values\n",
    "    \n",
    "    if len(weighting)==0:\n",
    "        weighting = np.identity(len(moments_obs))\n",
    "    \n",
    "    if return_scalar:\n",
    "        return dev @ weighting @ dev\n",
    "    else:\n",
    "        return dev @ np.sqrt(weighting)"
   ]
  },
  {
   "cell_type": "markdown",
   "metadata": {},
   "source": [
    "## Prepare data"
   ]
  },
  {
   "cell_type": "code",
   "execution_count": 102,
   "metadata": {},
   "outputs": [],
   "source": [
    "# Data Set\n",
    "data = pd.read_pickle(\"~/OpenSourceEconomics/estimagic/docs/source/getting_started/ologit.pickle\")\n",
    "formula = \"apply ~ pared + public + gpa\"\n",
    "start_params, y, x, constraints = ordered_logit_processing(formula, data)\n",
    "n = x.shape[0]"
   ]
  },
  {
   "cell_type": "markdown",
   "metadata": {},
   "source": [
    "Assume we are not allowed to keep the dependent information due to privacy concerns.\n",
    "We are only allowed to extract a moments at a certain level of granularity."
   ]
  },
  {
   "cell_type": "code",
   "execution_count": 103,
   "metadata": {},
   "outputs": [],
   "source": [
    "data = _build_data_df(x, y)\n",
    "moments_obs = _build_moments(data)"
   ]
  },
  {
   "cell_type": "code",
   "execution_count": 104,
   "metadata": {},
   "outputs": [
    {
     "name": "stderr",
     "output_type": "stream",
     "text": [
      "/home/mo2561057/anaconda3/envs/ov_analysis/lib/python3.7/site-packages/ipykernel_launcher.py:60: RuntimeWarning: divide by zero encountered in reciprocal\n"
     ]
    }
   ],
   "source": [
    "weighting, S = get_weighting_matrix(\n",
    "    data,\n",
    "    moments_obs,\n",
    "    _build_moments,\n",
    "    n_bootstrap_samples=50,\n",
    "    n_draws_individuals=100,\n",
    "    replace_missing_weights=None,\n",
    "    return_covariance_matrix=True,\n",
    ")"
   ]
  },
  {
   "cell_type": "code",
   "execution_count": 105,
   "metadata": {},
   "outputs": [],
   "source": [
    "# Now we pretend to leave our secure work space. Thus we have to delete y.\n",
    "del y\n",
    "del data"
   ]
  },
  {
   "cell_type": "code",
   "execution_count": 106,
   "metadata": {},
   "outputs": [],
   "source": [
    "# Now we build the objective function\n",
    "objective = functools.partial(\n",
    "    ordered_logit_msm,\n",
    "    x=x,\n",
    "    moment_func=_build_moments,\n",
    "    moments_obs=moments_obs,\n",
    "    weighting=weighting\n",
    ")"
   ]
  },
  {
   "cell_type": "code",
   "execution_count": 107,
   "metadata": {},
   "outputs": [
    {
     "data": {
      "text/plain": [
       "83.37781021712918"
      ]
     },
     "execution_count": 107,
     "metadata": {},
     "output_type": "execute_result"
    }
   ],
   "source": [
    "# We perform one evaluation to make sure our setup works\n",
    "objective(start_params)"
   ]
  },
  {
   "cell_type": "code",
   "execution_count": 108,
   "metadata": {},
   "outputs": [],
   "source": [
    "# Optmize\n",
    "rslt = maximize(\n",
    "    criterion=objective,\n",
    "    params=start_params,\n",
    "    algorithm=\"scipy_lbfgsb\",\n",
    "    constraints=constraints,\n",
    "    logging=\"ordered_logit.db\",\n",
    ")\n"
   ]
  },
  {
   "cell_type": "code",
   "execution_count": 109,
   "metadata": {},
   "outputs": [],
   "source": [
    "params = rslt[\"solution_params\"] "
   ]
  },
  {
   "cell_type": "markdown",
   "metadata": {},
   "source": [
    "# Inference"
   ]
  },
  {
   "cell_type": "code",
   "execution_count": 110,
   "metadata": {},
   "outputs": [],
   "source": [
    "def sandwich_cov(G, W, S, n):\n",
    "    bread = np.linalg.inv(\n",
    "        G.T @ W @ G\n",
    "    )\n",
    "    butter = G.T @ W @ S @ W @ G\n",
    "    return bread @ butter @ bread / n"
   ]
  },
  {
   "cell_type": "code",
   "execution_count": 123,
   "metadata": {},
   "outputs": [],
   "source": [
    "def get_msm_standart_errors(objective, theta_hat, S, W, n):\n",
    "    # Get Hessian Matrix\n",
    "    G = first_derivative(\n",
    "    objective, \n",
    "    theta_hat, \n",
    "    method=\"central\", \n",
    "    #key=\"moment_errors\", \n",
    "    base_steps=0.3,\n",
    "    return_func_value=True,\n",
    "    n_cores=1,\n",
    "    )[0].to_numpy()\n",
    "    \n",
    "    \n",
    "    return sandwich_cov(G, W, S, n)"
   ]
  },
  {
   "cell_type": "code",
   "execution_count": 124,
   "metadata": {},
   "outputs": [],
   "source": [
    "objective = functools.partial(\n",
    "    ordered_logit_msm,\n",
    "    x=x,\n",
    "    moment_func=_build_moments,\n",
    "    moments_obs=moments_obs,\n",
    "    weighting=weighting,\n",
    "    return_scalar=False\n",
    ")"
   ]
  },
  {
   "cell_type": "code",
   "execution_count": 125,
   "metadata": {},
   "outputs": [],
   "source": [
    "check = objective(start_params)"
   ]
  },
  {
   "cell_type": "code",
   "execution_count": 126,
   "metadata": {},
   "outputs": [
    {
     "data": {
      "text/html": [
       "<div>\n",
       "<style scoped>\n",
       "    .dataframe tbody tr th:only-of-type {\n",
       "        vertical-align: middle;\n",
       "    }\n",
       "\n",
       "    .dataframe tbody tr th {\n",
       "        vertical-align: top;\n",
       "    }\n",
       "\n",
       "    .dataframe thead th {\n",
       "        text-align: right;\n",
       "    }\n",
       "</style>\n",
       "<table border=\"1\" class=\"dataframe\">\n",
       "  <thead>\n",
       "    <tr style=\"text-align: right;\">\n",
       "      <th></th>\n",
       "      <th></th>\n",
       "      <th>value</th>\n",
       "      <th>group</th>\n",
       "    </tr>\n",
       "    <tr>\n",
       "      <th>type</th>\n",
       "      <th>name</th>\n",
       "      <th></th>\n",
       "      <th></th>\n",
       "    </tr>\n",
       "  </thead>\n",
       "  <tbody>\n",
       "    <tr>\n",
       "      <th rowspan=\"3\" valign=\"top\">beta</th>\n",
       "      <th>pared</th>\n",
       "      <td>0.477382</td>\n",
       "      <td>beta</td>\n",
       "    </tr>\n",
       "    <tr>\n",
       "      <th>public</th>\n",
       "      <td>0.226502</td>\n",
       "      <td>beta</td>\n",
       "    </tr>\n",
       "    <tr>\n",
       "      <th>gpa</th>\n",
       "      <td>-0.467458</td>\n",
       "      <td>beta</td>\n",
       "    </tr>\n",
       "    <tr>\n",
       "      <th rowspan=\"2\" valign=\"top\">cutoff</th>\n",
       "      <th>0</th>\n",
       "      <td>0.000000</td>\n",
       "      <td>cutoff</td>\n",
       "    </tr>\n",
       "    <tr>\n",
       "      <th>1</th>\n",
       "      <td>2.000000</td>\n",
       "      <td>cutoff</td>\n",
       "    </tr>\n",
       "  </tbody>\n",
       "</table>\n",
       "</div>"
      ],
      "text/plain": [
       "                  value   group\n",
       "type   name                    \n",
       "beta   pared   0.477382    beta\n",
       "       public  0.226502    beta\n",
       "       gpa    -0.467458    beta\n",
       "cutoff 0       0.000000  cutoff\n",
       "       1       2.000000  cutoff"
      ]
     },
     "execution_count": 126,
     "metadata": {},
     "output_type": "execute_result"
    }
   ],
   "source": [
    "start_params"
   ]
  },
  {
   "cell_type": "code",
   "execution_count": 127,
   "metadata": {},
   "outputs": [
    {
     "data": {
      "text/plain": [
       "(60,)"
      ]
     },
     "execution_count": 127,
     "metadata": {},
     "output_type": "execute_result"
    }
   ],
   "source": [
    "check.shape"
   ]
  },
  {
   "cell_type": "code",
   "execution_count": 128,
   "metadata": {},
   "outputs": [
    {
     "data": {
      "text/plain": [
       "(60,)"
      ]
     },
     "execution_count": 128,
     "metadata": {},
     "output_type": "execute_result"
    }
   ],
   "source": [
    "moments_obs.shape"
   ]
  },
  {
   "cell_type": "code",
   "execution_count": 129,
   "metadata": {},
   "outputs": [
    {
     "name": "stdout",
     "output_type": "stream",
     "text": [
      "[[ 1.00191625  1.50287437 -1.00191625 -0.50095812 -1.00191625]\n",
      " [-0.57297133 -1.14594266  0.57297133  1.14594266  1.71891399]\n",
      " [-1.76345334 -1.76345334  1.76345334 -1.76345334 -1.76345334]\n",
      " [-1.10161307  2.86419398 -3.96580706  0.88129046 -1.76258091]\n",
      " [ 1.56231362 -2.2318766   3.79419021  0.          2.45506426]\n",
      " [-0.80467649 -1.20701474  0.40233825 -1.60935298 -1.20701474]\n",
      " [ 1.00930564  0.7209326  -5.19071472  2.01861128 -1.15349216]\n",
      " [-0.57667337 -0.57667337  4.32505028 -1.58585177  2.16252514]\n",
      " [-0.84883563 -0.28294521  1.69767125 -0.84883563 -1.98061646]\n",
      " [-1.11498438  0.8919875  -3.34495313  1.11498438  2.45296563]\n",
      " [ 0.59542219 -0.39694813  3.17558503 -1.19084439 -1.38931845]\n",
      " [ 0.93257392 -0.93257392 -0.46628696  0.46628696 -1.86514784]\n",
      " [ 0.5509043   1.65271289 -1.65271289  0.         -1.10180859]\n",
      " [-0.51803204 -1.03606408  0.51803204  0.51803204  1.03606408]\n",
      " [ 0.         -1.45079396  2.90158793 -1.45079396  0.        ]\n",
      " [ 0.          0.          0.          0.          0.        ]\n",
      " [ 0.          0.          0.          0.          0.        ]\n",
      " [ 0.          0.          0.          0.          0.        ]\n",
      " [ 0.71310425 -0.71310425 -1.4262085   0.         -0.71310425]\n",
      " [-1.0535659   3.16069771  3.16069771  0.          2.1071318 ]\n",
      " [ 0.         -3.34607266 -1.67303633  0.         -1.67303633]\n",
      " [ 0.         -1.68765551 -3.03777991  1.35012441 -1.0125933 ]\n",
      " [ 0.          2.63819003  6.15577674 -3.51758671  2.63819003]\n",
      " [ 0.          0.71461896  0.71461896  0.          0.        ]\n",
      " [ 0.78582483 -1.96456208  0.         -0.39291242  1.17873725]\n",
      " [-0.79553574  1.59107149  0.          0.         -1.19330362]\n",
      " [ 0.          0.65003538  0.          0.65003538  0.        ]\n",
      " [ 0.90323955 -0.90323955 -3.61295821  1.8064791   0.90323955]\n",
      " [-0.72532357  0.          2.1759707  -1.45064713 -0.72532357]\n",
      " [ 0.          0.95345566  0.95345566  0.          0.        ]\n",
      " [ 0.          0.         -3.91378191 -3.91378191  0.        ]\n",
      " [ 0.          0.          7.46268657  0.          0.        ]\n",
      " [ 0.          0.          0.          0.          0.        ]\n",
      " [ 0.         -3.14402714 -3.14402714  0.62880543 -0.62880543]\n",
      " [ 0.          1.59064582  1.59064582 -1.06043055  0.53021527]\n",
      " [ 0.          0.          0.          0.          0.        ]\n",
      " [-0.48102702  0.         -4.32924322  0.          0.        ]\n",
      " [ 1.4325986  -0.47753287  3.34273006  0.47753287  0.95506573]\n",
      " [-1.35451842  0.67725921  1.35451842 -0.67725921 -1.35451842]\n",
      " [-1.23614124  0.82409416 -1.23614124  2.0602354   0.82409416]\n",
      " [ 0.         -1.17606464  0.         -1.96010773  0.        ]\n",
      " [ 1.24073554  0.41357851  1.24073554  0.         -0.82715703]\n",
      " [ 0.         -2.18354535 -1.09177267  2.18354535  0.        ]\n",
      " [ 0.          1.1401797   0.         -2.2803594   0.        ]\n",
      " [ 0.          0.84984008  0.84984008  0.          0.        ]\n",
      " [ 0.          0.          0.          0.          0.        ]\n",
      " [ 0.          0.          0.          0.          0.        ]\n",
      " [ 0.          0.          0.          0.          0.        ]\n",
      " [ 0.          0.          0.          0.          0.        ]\n",
      " [ 0.          0.          0.          0.          0.        ]\n",
      " [ 0.          0.          0.          0.          0.        ]\n",
      " [ 1.21550927  1.21550927 -1.21550927  1.21550927  2.43101854]\n",
      " [-1.50590797 -1.50590797  0.         -1.50590797 -1.50590797]\n",
      " [ 0.          0.          0.          0.          0.        ]\n",
      " [ 0.          0.         -2.60289603 -1.73526402 -1.73526402]\n",
      " [ 0.          0.          0.74165693  1.48331386  1.48331386]\n",
      " [ 0.          0.          1.4237216   0.          0.        ]\n",
      " [-1.92330455 -0.96165227 -0.96165227  2.88495682  0.96165227]\n",
      " [ 0.          1.57974926  1.57974926 -4.73924779 -1.57974926]\n",
      " [ 2.45511348  0.          0.          0.          0.        ]]\n"
     ]
    },
    {
     "data": {
      "text/plain": [
       "array([[ 1.66734255e-06,  6.31592669e-08, -2.59086364e-07,\n",
       "        -1.04380053e-06, -1.07444883e-07],\n",
       "       [ 6.31592669e-08,  1.09612376e-06,  8.56686223e-08,\n",
       "        -2.47556391e-07, -3.44459448e-07],\n",
       "       [-2.59086364e-07,  8.56686223e-08,  6.48396486e-07,\n",
       "         9.14845439e-07, -1.78117043e-07],\n",
       "       [-1.04380053e-06, -2.47556391e-07,  9.14845439e-07,\n",
       "         2.40364517e-06, -1.75965067e-07],\n",
       "       [-1.07444883e-07, -3.44459448e-07, -1.78117043e-07,\n",
       "        -1.75965067e-07,  4.49406596e-07]])"
      ]
     },
     "execution_count": 129,
     "metadata": {},
     "output_type": "execute_result"
    }
   ],
   "source": [
    "get_msm_standart_errors(objective, params, S, weighting , n)"
   ]
  },
  {
   "cell_type": "code",
   "execution_count": null,
   "metadata": {},
   "outputs": [],
   "source": []
  }
 ],
 "metadata": {
  "kernelspec": {
   "display_name": "Python 3",
   "language": "python",
   "name": "python3"
  },
  "language_info": {
   "codemirror_mode": {
    "name": "ipython",
    "version": 3
   },
   "file_extension": ".py",
   "mimetype": "text/x-python",
   "name": "python",
   "nbconvert_exporter": "python",
   "pygments_lexer": "ipython3",
   "version": "3.7.3"
  }
 },
 "nbformat": 4,
 "nbformat_minor": 4
}
